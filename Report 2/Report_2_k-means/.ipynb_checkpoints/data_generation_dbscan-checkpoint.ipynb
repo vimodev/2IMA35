{
 "cells": [
  {
   "cell_type": "code",
   "execution_count": null,
   "metadata": {},
   "outputs": [],
   "source": [
    "import pandas as pd\n",
    "import numpy as np\n",
    "from sklearn import datasets\n",
    "import random as rand\n",
    "\n",
    "%matplotlib inline"
   ]
  },
  {
   "cell_type": "code",
   "execution_count": null,
   "metadata": {},
   "outputs": [],
   "source": [
    "def plot_data(points):\n",
    "    #Assumes points are 2D stored as a list of lists\n",
    "    data = pd.DataFrame(points)\n",
    "    data.plot(kind='scatter',x=0,y=1)"
   ]
  },
  {
   "cell_type": "code",
   "execution_count": null,
   "metadata": {},
   "outputs": [],
   "source": [
    "def write_data(n, d, eps, minpts, data, i):\n",
    "    # write input file for n points of d dimensions with k clusters\n",
    "    # data is an list of lists, where each list holds the coordinates of points\n",
    "    # i indicates what the numbering for the input file should be\n",
    "    \n",
    "    with open('./input/%02i.in'%i, 'w') as f:\n",
    "        f.write(f\"{n} {d} {eps} {minpts}\\n\")\n",
    "        for p in data:\n",
    "            f.write(f\"{' '.join(map(str,p))}\\n\")"
   ]
  },
  {
   "cell_type": "code",
   "execution_count": null,
   "metadata": {},
   "outputs": [],
   "source": [
    "# make_blobs and some other function return a pair containing the output points and other information.\n",
    "# Check the definitions of various function to see how to obtain the data points\n",
    "# There are several types of generators that you can experiment with\n",
    "X_array,y = datasets.make_blobs(n_samples=10, centers=3, n_features=2, random_state=0)\n",
    "\n",
    "# the functions output numpy ndarrays which can be converted to python lists\n",
    "X = [point.tolist() for point in X_array]\n",
    "\n",
    "#you need not create all data using sk_learn, for example creating uniform noise is easy to do manually\n",
    "noise = []\n",
    "for i in range(10):\n",
    "    x = rand.uniform(10,20)\n",
    "    y = rand.uniform(0,10)\n",
    "    noise.append([x,y])\n",
    "\n",
    "# Two lists of points can be merged as follows. \n",
    "# Useful for example when adding clusters of different sizes or types or for adding noise\n",
    "X_comb = X + noise\n",
    "\n",
    "#this will write the clustering to file \"./input/10.in\" with n = #points, dimension 2, eps=0.4 and minpts = 4\n",
    "write_data(len(X_comb),2,0.4,4, X_comb, 10)"
   ]
  },
  {
   "cell_type": "code",
   "execution_count": null,
   "metadata": {},
   "outputs": [],
   "source": [
    "plot_data(noise)"
   ]
  }
 ],
 "metadata": {
  "kernelspec": {
   "display_name": "Python 3",
   "language": "python",
   "name": "python3"
  },
  "language_info": {
   "codemirror_mode": {
    "name": "ipython",
    "version": 3
   },
   "file_extension": ".py",
   "mimetype": "text/x-python",
   "name": "python",
   "nbconvert_exporter": "python",
   "pygments_lexer": "ipython3",
   "version": "3.7.1"
  }
 },
 "nbformat": 4,
 "nbformat_minor": 2
}
